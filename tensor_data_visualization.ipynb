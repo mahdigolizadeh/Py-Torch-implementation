{
  "nbformat": 4,
  "nbformat_minor": 0,
  "metadata": {
    "colab": {
      "name": "tensor-data-visualization.ipynb",
      "provenance": [],
      "private_outputs": true
    },
    "kernelspec": {
      "name": "python3",
      "display_name": "Python 3"
    }
  },
  "cells": [
    {
      "cell_type": "markdown",
      "metadata": {
        "id": "K_m28P4elzEj"
      },
      "source": [
        "edited in googlecolab"
      ]
    },
    {
      "cell_type": "markdown",
      "metadata": {
        "id": "j_zIzDmSPRrM"
      },
      "source": [
        "# setup\n",
        "loading necessary library"
      ]
    },
    {
      "cell_type": "code",
      "metadata": {
        "id": "nh_9kQW9PfRo"
      },
      "source": [
        "from torchvision.datasets import FashionMNIST as fashion\n",
        "from tqdm.auto import tqdm\n",
        "from torch.utils.data import DataLoader\n",
        "from torchvision.utils import make_grid\n",
        "import matplotlib.pyplot as plt\n",
        "from torchvision import transforms"
      ],
      "execution_count": null,
      "outputs": []
    },
    {
      "cell_type": "markdown",
      "metadata": {
        "id": "Fpv6hFQ9UsLl"
      },
      "source": [
        "# data\n",
        "downloading and preparing data"
      ]
    },
    {
      "cell_type": "code",
      "metadata": {
        "id": "oCUfQmheTKc9"
      },
      "source": [
        "# converts data into tensor\n",
        "trans=transforms.Compose([transforms.ToTensor(),\n",
        "                          transforms.Normalize((0.5,),(0.5,))\n",
        "                          ])"
      ],
      "execution_count": null,
      "outputs": []
    },
    {
      "cell_type": "code",
      "metadata": {
        "id": "UpWsZsbHRrmJ"
      },
      "source": [
        "# loads and downloads data(if it doesn't exist already)\n",
        "data=fashion(root='.',download=True,transform=trans)"
      ],
      "execution_count": null,
      "outputs": []
    },
    {
      "cell_type": "code",
      "metadata": {
        "id": "dr9tzUOtSotn"
      },
      "source": [
        "# splits data into batches and shuffles it\n",
        "dataloader=DataLoader(data,batch_size=25,shuffle=True)"
      ],
      "execution_count": null,
      "outputs": []
    },
    {
      "cell_type": "markdown",
      "metadata": {
        "id": "O9xBzAjlaEZo"
      },
      "source": [
        "# visualizing tensor"
      ]
    },
    {
      "cell_type": "code",
      "metadata": {
        "id": "ZUvgzSlwaIVe"
      },
      "source": [
        "for image_tensor , labels in tqdm(dataloader):\n",
        "  # denormalizing previously normanlized data\n",
        "  image_tensor=(image_tensor+1)/2\n",
        "  # not tracking gradients\n",
        "  img_unflat=image_tensor.detach()\n",
        "  # to make grids for images\n",
        "  img_grid=make_grid(img_unflat[:],5)\n",
        "  # to chnage the order of tensor dimentions to hwc\n",
        "  plt.imshow(img_grid.permute(1,2,0).squeeze())\n",
        "  plt.show()"
      ],
      "execution_count": null,
      "outputs": []
    }
  ]
}