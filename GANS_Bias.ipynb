{
  "nbformat": 4,
  "nbformat_minor": 0,
  "metadata": {
    "colab": {
      "name": "GANS_Bias.ipynb",
      "provenance": [],
      "collapsed_sections": []
    },
    "kernelspec": {
      "name": "python3",
      "display_name": "Python 3"
    },
    "accelerator": "GPU"
  },
  "cells": [
    {
      "cell_type": "markdown",
      "metadata": {
        "id": "D1hOVu230nCy"
      },
      "source": [
        "## Setup"
      ]
    },
    {
      "cell_type": "code",
      "metadata": {
        "id": "M1CfI0wR0qK4",
        "outputId": "161fa1a2-e905-4fb3-ec43-f5842cad79c8",
        "colab": {
          "base_uri": "https://localhost:8080/"
        }
      },
      "source": [
        "import torch\n",
        "import numpy as np\n",
        "from torch import nn\n",
        "from tqdm.auto import tqdm\n",
        "from torchvision import transforms\n",
        "from torchvision.datasets import CelebA\n",
        "from torchvision.utils import make_grid\n",
        "from torch.utils.data import DataLoader\n",
        "import matplotlib.pyplot as plt\n",
        "# to load saved model from google drive\n",
        "from google.colab import drive\n",
        "drive.mount('/gdrive')\n",
        "%cd /gdrive\n",
        "torch.manual_seed(0)"
      ],
      "execution_count": 1,
      "outputs": [
        {
          "output_type": "stream",
          "text": [
            "Mounted at /gdrive\n",
            "/gdrive\n"
          ],
          "name": "stdout"
        },
        {
          "output_type": "execute_result",
          "data": {
            "text/plain": [
              "<torch._C.Generator at 0x7f3965475570>"
            ]
          },
          "metadata": {
            "tags": []
          },
          "execution_count": 1
        }
      ]
    },
    {
      "cell_type": "markdown",
      "metadata": {
        "id": "kxqdmDwA14JY"
      },
      "source": [
        "To visualize tensor data"
      ]
    },
    {
      "cell_type": "code",
      "metadata": {
        "id": "pSPlhs6717uY"
      },
      "source": [
        "def show_tensor_image(image_tensor,num_images=16,size=(3,64,64),nrow=3):\n",
        "  '''\n",
        "  Function for visualizing images: Given a tensor of images, number of images,\n",
        "  size per image, and images per row, plots and prints the images in an uniform grid.\n",
        "  '''\n",
        "\n",
        "  image_tensor=(image_tensor+1)/2\n",
        "  img_unflat=image_tensor.detach().cpu()\n",
        "  img_grids=make_grid(img_unflat[:num_images],nrow=nrow)\n",
        "  plt.imshow(img_grids.permute(1,2,0).squeeze())\n",
        "  plt.show()"
      ],
      "execution_count": 2,
      "outputs": []
    },
    {
      "cell_type": "markdown",
      "metadata": {
        "id": "ciRUFarY3aC_"
      },
      "source": [
        "## Generator and Noise"
      ]
    },
    {
      "cell_type": "code",
      "metadata": {
        "id": "X8CGq8M23cRK"
      },
      "source": [
        "class Generator(nn.Module):\n",
        "  '''\n",
        "  Generator Class\n",
        "  Values:\n",
        "      z_dim: the dimension of the noise vector, a scalar\n",
        "      im_chan: the number of channels of the output image, a scalar\n",
        "            (CelebA is rgb, so 3 is your default)\n",
        "      hidden_dim: the inner dimension, a scalar\n",
        "  '''\n",
        "\n",
        "  def __init__(self, z_dim=10, im_chan=3, hidden_dim=64):\n",
        "    super(Generator, self).__init__()\n",
        "    self.z_dim = z_dim\n",
        "    # Build the neural network\n",
        "    self.gen = nn.Sequential(\n",
        "      self.make_gen_block(z_dim, hidden_dim * 8),\n",
        "      self.make_gen_block(hidden_dim * 8, hidden_dim * 4),\n",
        "      self.make_gen_block(hidden_dim * 4, hidden_dim * 2),\n",
        "      self.make_gen_block(hidden_dim * 2, hidden_dim),\n",
        "      self.make_gen_block(hidden_dim, im_chan, kernel_size=4, final_layer=True),\n",
        "    )\n",
        "\n",
        "  def make_gen_block(self, input_channels, output_channels, kernel_size=3, stride=2, final_layer=False):\n",
        "    '''\n",
        "    Function to return a sequence of operations corresponding to a generator block of DCGAN;\n",
        "    a transposed convolution, a batchnorm (except in the final layer), and an activation.\n",
        "    Parameters:\n",
        "      input_channels: how many channels the input feature representation has\n",
        "      output_channels: how many channels the output feature representation should have\n",
        "      kernel_size: the size of each convolutional filter, equivalent to (kernel_size, kernel_size)\n",
        "      stride: the stride of the convolution\n",
        "      final_layer: a boolean, true if it is the final layer and false otherwise \n",
        "          (affects activation and batchnorm)\n",
        "    '''\n",
        "    if not final_layer:\n",
        "      return nn.Sequential(\n",
        "        nn.ConvTranspose2d(input_channels, output_channels, kernel_size, stride),\n",
        "        nn.BatchNorm2d(output_channels),\n",
        "        nn.ReLU(inplace=True),\n",
        "        )\n",
        "    else:\n",
        "      return nn.Sequential(\n",
        "        nn.ConvTranspose2d(input_channels, output_channels, kernel_size, stride),\n",
        "        nn.Tanh(),\n",
        "        )\n",
        "\n",
        "  def forward(self, noise):\n",
        "    '''\n",
        "    Function for completing a forward pass of the generator: Given a noise tensor, \n",
        "    returns generated images.\n",
        "    Parameters:\n",
        "    noise: a noise tensor with dimensions (n_samples, z_dim)\n",
        "    '''\n",
        "    x = noise.view(len(noise), self.z_dim, 1, 1)\n",
        "    return self.gen(x)\n",
        "\n",
        "def get_noise(n_samples, z_dim, device='cpu'):\n",
        "  '''\n",
        "  Function for creating noise vectors: Given the dimensions (n_samples, z_dim)\n",
        "  creates a tensor of that shape filled with random numbers from the normal distribution.\n",
        "  Parameters:\n",
        "  n_samples: the number of samples to generate, a scalar\n",
        "  z_dim: the dimension of the noise vector, a scalar\n",
        "  device: the device type\n",
        "  '''\n",
        "  return torch.randn(n_samples, z_dim, device=device)"
      ],
      "execution_count": 3,
      "outputs": []
    },
    {
      "cell_type": "markdown",
      "metadata": {
        "id": "M5vTgAUF4p6-"
      },
      "source": [
        "### Classifier"
      ]
    },
    {
      "cell_type": "code",
      "metadata": {
        "id": "eqPBFf9v4rh3"
      },
      "source": [
        "class Classifier(nn.Module):\n",
        "  '''\n",
        "  Classifier Class\n",
        "  Values:\n",
        "    im_chan: the number of channels of the output image, a scalar\n",
        "      (CelebA is rgb, so 3 is your default)\n",
        "    n_classes: the total number of classes in the dataset, an integer scalar\n",
        "    hidden_dim: the inner dimension, a scalar\n",
        "  '''\n",
        "\n",
        "  def __init__(self, im_chan=3, n_classes=2, hidden_dim=64):\n",
        "    super(Classifier, self).__init__()\n",
        "    self.classifier = nn.Sequential(\n",
        "      self.make_classifier_block(im_chan, hidden_dim),\n",
        "      self.make_classifier_block(hidden_dim, hidden_dim * 2),\n",
        "      self.make_classifier_block(hidden_dim * 2, hidden_dim * 4, stride=3),\n",
        "      self.make_classifier_block(hidden_dim * 4, n_classes, final_layer=True),\n",
        "    )\n",
        "\n",
        "  def make_classifier_block(self, input_channels, output_channels, kernel_size=4, stride=2, final_layer=False):\n",
        "    '''\n",
        "    Function to return a sequence of operations corresponding to a classifier block; \n",
        "    a convolution, a batchnorm (except in the final layer), and an activation (except in the final layer).\n",
        "    Parameters:\n",
        "    input_channels: how many channels the input feature representation has\n",
        "    output_channels: how many channels the output feature representation should have\n",
        "    kernel_size: the size of each convolutional filter, equivalent to (kernel_size, kernel_size)\n",
        "    stride: the stride of the convolution\n",
        "    final_layer: a boolean, true if it is the final layer and false otherwise \n",
        "              (affects activation and batchnorm)\n",
        "    '''\n",
        "    if not final_layer:\n",
        "      return nn.Sequential(\n",
        "        nn.Conv2d(input_channels, output_channels, kernel_size, stride),\n",
        "        nn.BatchNorm2d(output_channels),\n",
        "        nn.LeakyReLU(0.2, inplace=True),\n",
        "      )\n",
        "    else:\n",
        "      return nn.Sequential(\n",
        "        nn.Conv2d(input_channels, output_channels, kernel_size, stride),\n",
        "      )\n",
        "\n",
        "  def forward(self, image):\n",
        "    '''\n",
        "    Function for completing a forward pass of the classifier: Given an image tensor, \n",
        "    returns an n_classes-dimension tensor representing classes.\n",
        "    Parameters:\n",
        "      image: a flattened image tensor with im_chan channels\n",
        "    '''\n",
        "    class_pred = self.classifier(image)\n",
        "    return class_pred.view(len(class_pred), -1)"
      ],
      "execution_count": 4,
      "outputs": []
    },
    {
      "cell_type": "markdown",
      "metadata": {
        "id": "M5F0Zz305uA2"
      },
      "source": [
        "## Specifying Parameters"
      ]
    },
    {
      "cell_type": "code",
      "metadata": {
        "id": "hCDvM5Jz5vAW"
      },
      "source": [
        "z_dim = 64\n",
        "batch_size = 128\n",
        "device = 'cuda'"
      ],
      "execution_count": 5,
      "outputs": []
    },
    {
      "cell_type": "markdown",
      "metadata": {
        "id": "Tk7cjL6W7ABd"
      },
      "source": [
        "## Loading the Pre-trained Models"
      ]
    },
    {
      "cell_type": "code",
      "metadata": {
        "id": "kyaOVyeU7BY8",
        "outputId": "f2548263-a537-4bb9-d856-3aaf488f519e",
        "colab": {
          "base_uri": "https://localhost:8080/"
        }
      },
      "source": [
        "gen = Generator(z_dim).to(device)\n",
        "gen_dict = torch.load(\"/gdrive/My Drive/pretrained_celeba.pth\", map_location=torch.device(device))[\"gen\"]\n",
        "gen.load_state_dict(gen_dict)\n",
        "gen.eval()\n",
        "\n",
        "n_classes = 40\n",
        "classifier = Classifier(n_classes=n_classes).to(device)\n",
        "class_dict = torch.load(\"/gdrive/My Drive/pretrained_classifier.pth\", map_location=torch.device(device))[\"classifier\"]\n",
        "classifier.load_state_dict(class_dict)\n",
        "classifier.eval()\n",
        "print(\"Loaded the models!\")\n",
        "\n",
        "opt = torch.optim.Adam(classifier.parameters(), lr=0.01)"
      ],
      "execution_count": 7,
      "outputs": [
        {
          "output_type": "stream",
          "text": [
            "Loaded the models!\n"
          ],
          "name": "stdout"
        }
      ]
    },
    {
      "cell_type": "markdown",
      "metadata": {
        "id": "m44QAk30ubZK"
      },
      "source": [
        "## Feature Correlation"
      ]
    },
    {
      "cell_type": "code",
      "metadata": {
        "id": "Yt2vUc-VucUg"
      },
      "source": [
        "# First you generate a bunch of fake images with the generator\n",
        "n_images = 256\n",
        "fake_image_history = []\n",
        "classification_history = []\n",
        "grad_steps = 30 # How many gradient steps to take\n",
        "skip = 2 # How many gradient steps to skip in the visualization"
      ],
      "execution_count": 8,
      "outputs": []
    },
    {
      "cell_type": "code",
      "metadata": {
        "id": "OodjldQourcq"
      },
      "source": [
        "feature_names = [\"5oClockShadow\", \"ArchedEyebrows\", \"Attractive\", \"BagsUnderEyes\", \"Bald\", \"Bangs\",\n",
        "\"BigLips\", \"BigNose\", \"BlackHair\", \"BlondHair\", \"Blurry\", \"BrownHair\", \"BushyEyebrows\", \"Chubby\",\n",
        "\"DoubleChin\", \"Eyeglasses\", \"Goatee\", \"GrayHair\", \"HeavyMakeup\", \"HighCheekbones\", \"Male\", \n",
        "\"MouthSlightlyOpen\", \"Mustache\", \"NarrowEyes\", \"NoBeard\", \"OvalFace\", \"PaleSkin\", \"PointyNose\", \n",
        "\"RecedingHairline\", \"RosyCheeks\", \"Sideburn\", \"Smiling\", \"StraightHair\", \"WavyHair\", \"WearingEarrings\", \n",
        "\"WearingHat\", \"WearingLipstick\", \"WearingNecklace\", \"WearingNecktie\", \"Young\"]"
      ],
      "execution_count": 9,
      "outputs": []
    },
    {
      "cell_type": "code",
      "metadata": {
        "id": "cJoPgNjquyTx"
      },
      "source": [
        "n_features = len(feature_names)\n",
        "# Set the target feature\n",
        "target_feature = \"Male\"\n",
        "target_indices = feature_names.index(target_feature)\n",
        "noise = get_noise(n_images, z_dim).to(device)\n",
        "new_noise = noise.clone().requires_grad_()\n",
        "starting_classifications = classifier(gen(new_noise)).cpu().detach()"
      ],
      "execution_count": 10,
      "outputs": []
    },
    {
      "cell_type": "code",
      "metadata": {
        "id": "FbTZ9ZBIvNFu"
      },
      "source": [
        "# Additive direction (more of a feature)\n",
        "for i in range(grad_steps):\n",
        "  opt.zero_grad()\n",
        "  fake = gen(new_noise)\n",
        "  fake_image_history += [fake]\n",
        "  classifications = classifier(fake)\n",
        "  classification_history += [classifications.cpu().detach()]\n",
        "  fake_classes = classifications[:, target_indices].mean()\n",
        "  fake_classes.backward()\n",
        "  new_noise.data += new_noise.grad / grad_steps"
      ],
      "execution_count": 11,
      "outputs": []
    },
    {
      "cell_type": "code",
      "metadata": {
        "id": "94wBb5MUv8Sx"
      },
      "source": [
        "# Subtractive direction (less of a feature)\n",
        "new_noise = noise.clone().requires_grad_()\n",
        "for i in range(grad_steps):\n",
        "  opt.zero_grad()\n",
        "  fake = gen(new_noise)\n",
        "  fake_image_history += [fake]\n",
        "  classifications = classifier(fake)\n",
        "  classification_history += [classifications.cpu().detach()]\n",
        "  fake_classes = classifications[:, target_indices].mean()\n",
        "  fake_classes.backward()\n",
        "  new_noise.data -= new_noise.grad / grad_steps"
      ],
      "execution_count": 12,
      "outputs": []
    },
    {
      "cell_type": "code",
      "metadata": {
        "id": "EFzpHXTmwUUq"
      },
      "source": [
        "classification_history=torch.stack(classification_history)"
      ],
      "execution_count": 13,
      "outputs": []
    },
    {
      "cell_type": "code",
      "metadata": {
        "id": "tEjazr8Awhr3",
        "outputId": "d7b2bde0-9100-4879-9911-7bf0bf8ff12e",
        "colab": {
          "base_uri": "https://localhost:8080/"
        }
      },
      "source": [
        "print(classification_history.shape)\n",
        "print(starting_classifications[None, :, :].shape)"
      ],
      "execution_count": 14,
      "outputs": [
        {
          "output_type": "stream",
          "text": [
            "torch.Size([60, 256, 40])\n",
            "torch.Size([1, 256, 40])\n"
          ],
          "name": "stdout"
        }
      ]
    },
    {
      "cell_type": "code",
      "metadata": {
        "id": "PVZms__swkrk",
        "outputId": "81fc523a-d1c1-4a70-ab0c-de5217ce4453",
        "colab": {
          "base_uri": "https://localhost:8080/",
          "height": 497
        }
      },
      "source": [
        "import seaborn as sns\n",
        "# Set the other features\n",
        "other_features = [\"Smiling\", \"Bald\", \"Young\", \"HeavyMakeup\", \"Attractive\"]\n",
        "classification_changes = (classification_history - starting_classifications[None, :, :]).numpy()\n",
        "for other_feature in other_features:\n",
        "  other_indices = feature_names.index(other_feature)\n",
        "  with sns.axes_style(\"darkgrid\"):\n",
        "    sns.regplot(\n",
        "      classification_changes[:, :, target_indices].reshape(-1), \n",
        "      classification_changes[:, :, other_indices].reshape(-1), \n",
        "      fit_reg=True,\n",
        "      truncate=True,\n",
        "      ci=99,\n",
        "      x_ci=99,\n",
        "      x_bins=len(classification_history),\n",
        "      label=other_feature\n",
        "    )\n",
        "plt.xlabel(target_feature)\n",
        "plt.ylabel(\"Other Feature\")\n",
        "plt.title(f\"Generator Biases: Features vs {target_feature}-ness\")\n",
        "plt.legend(loc=1)\n",
        "plt.show()"
      ],
      "execution_count": 15,
      "outputs": [
        {
          "output_type": "stream",
          "text": [
            "/usr/local/lib/python3.6/dist-packages/seaborn/_decorators.py:43: FutureWarning: Pass the following variables as keyword args: x, y. From version 0.12, the only valid positional argument will be `data`, and passing other arguments without an explicit keyword will result in an error or misinterpretation.\n",
            "  FutureWarning\n",
            "/usr/local/lib/python3.6/dist-packages/seaborn/_decorators.py:43: FutureWarning: Pass the following variables as keyword args: x, y. From version 0.12, the only valid positional argument will be `data`, and passing other arguments without an explicit keyword will result in an error or misinterpretation.\n",
            "  FutureWarning\n",
            "/usr/local/lib/python3.6/dist-packages/seaborn/_decorators.py:43: FutureWarning: Pass the following variables as keyword args: x, y. From version 0.12, the only valid positional argument will be `data`, and passing other arguments without an explicit keyword will result in an error or misinterpretation.\n",
            "  FutureWarning\n",
            "/usr/local/lib/python3.6/dist-packages/seaborn/_decorators.py:43: FutureWarning: Pass the following variables as keyword args: x, y. From version 0.12, the only valid positional argument will be `data`, and passing other arguments without an explicit keyword will result in an error or misinterpretation.\n",
            "  FutureWarning\n",
            "/usr/local/lib/python3.6/dist-packages/seaborn/_decorators.py:43: FutureWarning: Pass the following variables as keyword args: x, y. From version 0.12, the only valid positional argument will be `data`, and passing other arguments without an explicit keyword will result in an error or misinterpretation.\n",
            "  FutureWarning\n"
          ],
          "name": "stderr"
        },
        {
          "output_type": "display_data",
          "data": {
            "image/png": "[encoded data removed]",
            "text/plain": [
              "<Figure size 432x288 with 1 Axes>"
            ]
          },
          "metadata": {
            "tags": []
          }
        }
      ]
    },
    {
      "cell_type": "code",
      "metadata": {
        "id": "R9ACVbrBxUQz"
      },
      "source": [
        "def get_top_covariances(classification_changes, target_index, top_n=10):\n",
        "    '''\n",
        "    Function for getting the top n covariances: Given a list of classification changes\n",
        "    and the index of the target feature, returns (1) a list or tensor (numpy or torch) of the indices\n",
        "    corresponding to the n most covarying factors in terms of absolute covariance\n",
        "    and (2) a list or tensor (numpy or torch) of the degrees to which they covary.\n",
        "    Parameters:\n",
        "        classification_changes: relative changes in classifications of each generated image \n",
        "          resulting from optimizing the target feature (see above for a visualization)\n",
        "        target_index: the index of the target feature, a scalar\n",
        "        top_n: the top most number of elements to return, default is 10\n",
        "    '''\n",
        "    flattened_changes = classification_changes.reshape(-1, classification_changes.shape[-1]).T\n",
        "    covariances = np.cov(flattened_changes)\n",
        "    relevant_indices = torch.topk(torch.Tensor(np.abs(covariances[target_index])), top_n + 1)[1][1:].numpy()\n",
        "    highest_covariances = covariances[target_index, relevant_indices]\n",
        "    return relevant_indices, highest_covariances"
      ],
      "execution_count": 16,
      "outputs": []
    },
    {
      "cell_type": "code",
      "metadata": {
        "id": "hwUjNh0hzs4W",
        "outputId": "9025377e-cce7-428b-c2c2-f56112ac9828",
        "colab": {
          "base_uri": "https://localhost:8080/"
        }
      },
      "source": [
        "relevant_indices, highest_covariances = get_top_covariances(classification_changes, target_indices, top_n=10)\n",
        "print('relevant indices are \\n',relevant_indices)\n",
        "for index, covariance in zip(relevant_indices, highest_covariances):\n",
        "    print(f\"{feature_names[index]}  {covariance:f}\")"
      ],
      "execution_count": 22,
      "outputs": [
        {
          "output_type": "stream",
          "text": [
            "relevant indices are \n",
            " [36 18 24 30  0 22 16 38  9 34]\n",
            "WearingLipstick  -2.952764\n",
            "HeavyMakeup  -2.705969\n",
            "NoBeard  -2.559940\n",
            "Sideburn  2.049616\n",
            "5oClockShadow  2.006886\n",
            "Mustache  1.998510\n",
            "Goatee  1.859582\n",
            "WearingNecktie  1.583758\n",
            "BlondHair  -1.241764\n",
            "WearingEarrings  -1.207917\n"
          ],
          "name": "stdout"
        }
      ]
    }
  ]
}